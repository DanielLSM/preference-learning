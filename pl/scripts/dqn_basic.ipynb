{
 "cells": [
  {
   "cell_type": "code",
   "execution_count": 7,
   "metadata": {},
   "outputs": [],
   "source": [
    "# https://www.tensorflow.org/agents/tutorials/1_dqn_tutorial\n",
    "# https://keras.io/examples/\n",
    "# https://docs.google.com/document/d/1wBGjWK-XYggGgAu-FdUcJN3JuyrKa3Q6GjQ2Ekb84g4/edit\n",
    "# https://spinningup.openai.com/en/latest/algorithms/ppo.html#documentation-tensorflow-version\n",
    "# ppo lunar landing keras\n",
    "from __future__ import absolute_import, division, print_function\n",
    "\n",
    "import base64\n",
    "import imageio\n",
    "import IPython\n",
    "import matplotlib\n",
    "import matplotlib.pyplot as plt\n",
    "import numpy as np\n",
    "import PIL.Image\n",
    "import pyvirtualdisplay\n",
    "import reverb\n",
    "\n",
    "import tensorflow as tf\n",
    "\n",
    "from tf_agents.agents.dqn import dqn_agent\n",
    "from tf_agents.drivers import py_driver\n",
    "from tf_agents.environments import suite_gym\n",
    "from tf_agents.environments import tf_py_environment\n",
    "from tf_agents.eval import metric_utils\n",
    "from tf_agents.metrics import tf_metrics\n",
    "from tf_agents.networks import sequential\n",
    "from tf_agents.policies import py_tf_eager_policy\n",
    "from tf_agents.policies import random_tf_policy\n",
    "from tf_agents.replay_buffers import reverb_replay_buffer\n",
    "from tf_agents.replay_buffers import reverb_utils\n",
    "from tf_agents.trajectories import trajectory\n",
    "from tf_agents.specs import tensor_spec\n",
    "from tf_agents.utils import common"
   ]
  },
  {
   "cell_type": "code",
   "execution_count": 8,
   "metadata": {},
   "outputs": [],
   "source": [
    "# Set up a virtual display for rendering OpenAI gym environments.\n",
    "display = pyvirtualdisplay.Display(visible=0, size=(1400, 900)).start()"
   ]
  },
  {
   "cell_type": "code",
   "execution_count": 9,
   "metadata": {},
   "outputs": [
    {
     "data": {
      "text/plain": [
       "'2.7.0'"
      ]
     },
     "execution_count": 9,
     "metadata": {},
     "output_type": "execute_result"
    }
   ],
   "source": [
    "tf.version.VERSION"
   ]
  },
  {
   "cell_type": "code",
   "execution_count": 10,
   "metadata": {},
   "outputs": [],
   "source": [
    "num_iterations = 20000 # @param {type:\"integer\"}\n",
    "\n",
    "initial_collect_steps = 100  # @param {type:\"integer\"}\n",
    "collect_steps_per_iteration =   1# @param {type:\"integer\"}\n",
    "replay_buffer_max_length = 100000  # @param {type:\"integer\"}\n",
    "\n",
    "batch_size = 64  # @param {type:\"integer\"}\n",
    "learning_rate = 1e-3  # @param {type:\"number\"}\n",
    "log_interval = 200  # @param {type:\"integer\"}\n",
    "\n",
    "num_eval_episodes = 10  # @param {type:\"integer\"}\n",
    "eval_interval = 1000  # @param {type:\"integer\"}"
   ]
  },
  {
   "cell_type": "code",
   "execution_count": 11,
   "metadata": {},
   "outputs": [
    {
     "name": "stdout",
     "output_type": "stream",
     "text": [
      "Observation Spec:\n",
      "BoundedArraySpec(shape=(4,), dtype=dtype('float32'), name='observation', minimum=[-4.8000002e+00 -3.4028235e+38 -4.1887903e-01 -3.4028235e+38], maximum=[4.8000002e+00 3.4028235e+38 4.1887903e-01 3.4028235e+38])\n",
      "Reward Spec:\n",
      "ArraySpec(shape=(), dtype=dtype('float32'), name='reward')\n",
      "Action Spec:\n",
      "BoundedArraySpec(shape=(), dtype=dtype('int64'), name='action', minimum=0, maximum=1)\n"
     ]
    }
   ],
   "source": [
    "env_name = 'CartPole-v0'\n",
    "env = suite_gym.load(env_name)\n",
    "env.reset()\n",
    "PIL.Image.fromarray(env.render())\n",
    "print('Observation Spec:')\n",
    "print(env.time_step_spec().observation)\n",
    "print('Reward Spec:')\n",
    "print(env.time_step_spec().reward)\n",
    "print('Action Spec:')\n",
    "print(env.action_spec())"
   ]
  },
  {
   "cell_type": "code",
   "execution_count": 12,
   "metadata": {},
   "outputs": [
    {
     "name": "stdout",
     "output_type": "stream",
     "text": [
      "Time step:\n",
      "TimeStep(\n",
      "{'discount': array(1., dtype=float32),\n",
      " 'observation': array([-0.04320437,  0.01445717,  0.04452924,  0.0387569 ], dtype=float32),\n",
      " 'reward': array(0., dtype=float32),\n",
      " 'step_type': array(0, dtype=int32)})\n",
      "Next time step:\n",
      "TimeStep(\n",
      "{'discount': array(1., dtype=float32),\n",
      " 'observation': array([-0.04291522,  0.20891322,  0.04530438, -0.23955077], dtype=float32),\n",
      " 'reward': array(1., dtype=float32),\n",
      " 'step_type': array(1, dtype=int32)})\n"
     ]
    }
   ],
   "source": [
    "time_step = env.reset()\n",
    "print('Time step:')\n",
    "print(time_step)\n",
    "\n",
    "action = np.array(1, dtype=np.int32)\n",
    "\n",
    "next_time_step = env.step(action)\n",
    "print('Next time step:')\n",
    "print(next_time_step)\n",
    "train_py_env = suite_gym.load(env_name)\n",
    "eval_py_env = suite_gym.load(env_name)\n",
    "train_env = tf_py_environment.TFPyEnvironment(train_py_env)\n",
    "eval_env = tf_py_environment.TFPyEnvironment(eval_py_env)\n",
    "fc_layer_params = (100, 50)\n",
    "action_tensor_spec = tensor_spec.from_spec(env.action_spec())\n",
    "num_actions = action_tensor_spec.maximum - action_tensor_spec.minimum + 1\n",
    "\n",
    "# Define a helper function to create Dense layers configured with the right\n",
    "# activation and kernel initializer.\n",
    "def dense_layer(num_units):\n",
    "  return tf.keras.layers.Dense(\n",
    "      num_units,\n",
    "      activation=tf.keras.activations.relu,\n",
    "      kernel_initializer=tf.keras.initializers.VarianceScaling(\n",
    "          scale=2.0, mode='fan_in', distribution='truncated_normal'))\n",
    "\n",
    "# QNetwork consists of a sequence of Dense layers followed by a dense layer\n",
    "# with `num_actions` units to generate one q_value per available action as\n",
    "# its output.\n",
    "dense_layers = [dense_layer(num_units) for num_units in fc_layer_params]\n",
    "q_values_layer = tf.keras.layers.Dense(\n",
    "    num_actions,\n",
    "    activation=None,\n",
    "    kernel_initializer=tf.keras.initializers.RandomUniform(\n",
    "        minval=-0.03, maxval=0.03),\n",
    "    bias_initializer=tf.keras.initializers.Constant(-0.2))\n",
    "q_net = sequential.Sequential(dense_layers + [q_values_layer])"
   ]
  },
  {
   "cell_type": "code",
   "execution_count": 13,
   "metadata": {},
   "outputs": [
    {
     "name": "stderr",
     "output_type": "stream",
     "text": [
      "2022-01-27 02:27:58.798463: I tensorflow/stream_executor/cuda/cuda_gpu_executor.cc:939] successful NUMA node read from SysFS had negative value (-1), but there must be at least one NUMA node, so returning NUMA node zero\n",
      "2022-01-27 02:27:58.816461: I tensorflow/stream_executor/cuda/cuda_gpu_executor.cc:939] successful NUMA node read from SysFS had negative value (-1), but there must be at least one NUMA node, so returning NUMA node zero\n",
      "2022-01-27 02:27:58.817143: I tensorflow/stream_executor/cuda/cuda_gpu_executor.cc:939] successful NUMA node read from SysFS had negative value (-1), but there must be at least one NUMA node, so returning NUMA node zero\n",
      "2022-01-27 02:27:58.818403: I tensorflow/core/platform/cpu_feature_guard.cc:151] This TensorFlow binary is optimized with oneAPI Deep Neural Network Library (oneDNN) to use the following CPU instructions in performance-critical operations:  AVX2 FMA\n",
      "To enable them in other operations, rebuild TensorFlow with the appropriate compiler flags.\n",
      "2022-01-27 02:27:58.819205: I tensorflow/stream_executor/cuda/cuda_gpu_executor.cc:939] successful NUMA node read from SysFS had negative value (-1), but there must be at least one NUMA node, so returning NUMA node zero\n",
      "2022-01-27 02:27:58.819519: I tensorflow/stream_executor/cuda/cuda_gpu_executor.cc:939] successful NUMA node read from SysFS had negative value (-1), but there must be at least one NUMA node, so returning NUMA node zero\n",
      "2022-01-27 02:27:58.819932: I tensorflow/stream_executor/cuda/cuda_gpu_executor.cc:939] successful NUMA node read from SysFS had negative value (-1), but there must be at least one NUMA node, so returning NUMA node zero\n",
      "2022-01-27 02:27:59.256400: I tensorflow/stream_executor/cuda/cuda_gpu_executor.cc:939] successful NUMA node read from SysFS had negative value (-1), but there must be at least one NUMA node, so returning NUMA node zero\n",
      "2022-01-27 02:27:59.256681: I tensorflow/stream_executor/cuda/cuda_gpu_executor.cc:939] successful NUMA node read from SysFS had negative value (-1), but there must be at least one NUMA node, so returning NUMA node zero\n",
      "2022-01-27 02:27:59.256929: I tensorflow/stream_executor/cuda/cuda_gpu_executor.cc:939] successful NUMA node read from SysFS had negative value (-1), but there must be at least one NUMA node, so returning NUMA node zero\n",
      "2022-01-27 02:27:59.257434: I tensorflow/core/common_runtime/gpu/gpu_device.cc:1525] Created device /job:localhost/replica:0/task:0/device:GPU:0 with 6418 MB memory:  -> device: 0, name: NVIDIA GeForce GTX 1070, pci bus id: 0000:06:00.0, compute capability: 6.1\n"
     ]
    },
    {
     "data": {
      "text/plain": [
       "PolicyStep(action=<tf.Tensor: shape=(1,), dtype=int64, numpy=array([0])>, state=(), info=())"
      ]
     },
     "execution_count": 13,
     "metadata": {},
     "output_type": "execute_result"
    }
   ],
   "source": [
    "optimizer = tf.keras.optimizers.Adam(learning_rate=learning_rate)\n",
    "\n",
    "train_step_counter = tf.Variable(0)\n",
    "\n",
    "agent = dqn_agent.DqnAgent(\n",
    "    train_env.time_step_spec(),\n",
    "    train_env.action_spec(),\n",
    "    q_network=q_net,\n",
    "    optimizer=optimizer,\n",
    "    td_errors_loss_fn=common.element_wise_squared_loss,\n",
    "    train_step_counter=train_step_counter)\n",
    "\n",
    "agent.initialize()\n",
    "\n",
    "eval_policy = agent.policy\n",
    "collect_policy = agent.collect_policy\n",
    "\n",
    "random_policy = random_tf_policy.RandomTFPolicy(train_env.time_step_spec(),\n",
    "                                                train_env.action_spec())\n",
    "\n",
    "example_environment = tf_py_environment.TFPyEnvironment(\n",
    "    suite_gym.load('CartPole-v0'))\n",
    "\n",
    "time_step = example_environment.reset()\n",
    "random_policy.action(time_step)"
   ]
  },
  {
   "cell_type": "code",
   "execution_count": 14,
   "metadata": {},
   "outputs": [],
   "source": [
    "def compute_avg_return(environment, policy, num_episodes=10):\n",
    "\n",
    "  total_return = 0.0\n",
    "  for _ in range(num_episodes):\n",
    "\n",
    "    time_step = environment.reset()\n",
    "    episode_return = 0.0\n",
    "\n",
    "    while not time_step.is_last():\n",
    "      action_step = policy.action(time_step)\n",
    "      time_step = environment.step(action_step.action)\n",
    "      episode_return += time_step.reward\n",
    "    total_return += episode_return\n",
    "\n",
    "  avg_return = total_return / num_episodes\n",
    "  return avg_return.numpy()[0]\n",
    "\n",
    "\n",
    "# See also the metrics module for standard implementations of different metrics.\n",
    "# https://github.com/tensorflow/agents/tree/master/tf_agents/metrics"
   ]
  },
  {
   "cell_type": "code",
   "execution_count": 15,
   "metadata": {},
   "outputs": [
    {
     "data": {
      "text/plain": [
       "18.9"
      ]
     },
     "execution_count": 15,
     "metadata": {},
     "output_type": "execute_result"
    }
   ],
   "source": [
    "compute_avg_return(eval_env, random_policy, num_eval_episodes)"
   ]
  },
  {
   "cell_type": "code",
   "execution_count": 16,
   "metadata": {},
   "outputs": [
    {
     "name": "stderr",
     "output_type": "stream",
     "text": [
      "[reverb/cc/platform/tfrecord_checkpointer.cc:150]  Initializing TFRecordCheckpointer in /tmp/tmpl2po83x7.\n",
      "[reverb/cc/platform/tfrecord_checkpointer.cc:386] Loading latest checkpoint from /tmp/tmpl2po83x7\n",
      "[reverb/cc/platform/default/server.cc:71] Started replay server on port 20814\n"
     ]
    }
   ],
   "source": [
    "table_name = 'uniform_table'\n",
    "replay_buffer_signature = tensor_spec.from_spec(\n",
    "      agent.collect_data_spec)\n",
    "replay_buffer_signature = tensor_spec.add_outer_dim(\n",
    "    replay_buffer_signature)\n",
    "\n",
    "table = reverb.Table(\n",
    "    table_name,\n",
    "    max_size=replay_buffer_max_length,\n",
    "    sampler=reverb.selectors.Uniform(),\n",
    "    remover=reverb.selectors.Fifo(),\n",
    "    rate_limiter=reverb.rate_limiters.MinSize(1),\n",
    "    signature=replay_buffer_signature)\n",
    "\n",
    "reverb_server = reverb.Server([table])\n",
    "\n",
    "replay_buffer = reverb_replay_buffer.ReverbReplayBuffer(\n",
    "    agent.collect_data_spec,\n",
    "    table_name=table_name,\n",
    "    sequence_length=2,\n",
    "    local_server=reverb_server)\n",
    "\n",
    "rb_observer = reverb_utils.ReverbAddTrajectoryObserver(\n",
    "  replay_buffer.py_client,\n",
    "  table_name,\n",
    "  sequence_length=2)"
   ]
  },
  {
   "cell_type": "code",
   "execution_count": 17,
   "metadata": {},
   "outputs": [
    {
     "data": {
      "text/plain": [
       "Trajectory(\n",
       "{'action': BoundedTensorSpec(shape=(), dtype=tf.int64, name='action', minimum=array(0), maximum=array(1)),\n",
       " 'discount': BoundedTensorSpec(shape=(), dtype=tf.float32, name='discount', minimum=array(0., dtype=float32), maximum=array(1., dtype=float32)),\n",
       " 'next_step_type': TensorSpec(shape=(), dtype=tf.int32, name='step_type'),\n",
       " 'observation': BoundedTensorSpec(shape=(4,), dtype=tf.float32, name='observation', minimum=array([-4.8000002e+00, -3.4028235e+38, -4.1887903e-01, -3.4028235e+38],\n",
       "      dtype=float32), maximum=array([4.8000002e+00, 3.4028235e+38, 4.1887903e-01, 3.4028235e+38],\n",
       "      dtype=float32)),\n",
       " 'policy_info': (),\n",
       " 'reward': TensorSpec(shape=(), dtype=tf.float32, name='reward'),\n",
       " 'step_type': TensorSpec(shape=(), dtype=tf.int32, name='step_type')})"
      ]
     },
     "execution_count": 17,
     "metadata": {},
     "output_type": "execute_result"
    }
   ],
   "source": [
    "agent.collect_data_spec"
   ]
  },
  {
   "cell_type": "code",
   "execution_count": 18,
   "metadata": {},
   "outputs": [
    {
     "data": {
      "text/plain": [
       "('step_type',\n",
       " 'observation',\n",
       " 'action',\n",
       " 'policy_info',\n",
       " 'next_step_type',\n",
       " 'reward',\n",
       " 'discount')"
      ]
     },
     "execution_count": 18,
     "metadata": {},
     "output_type": "execute_result"
    }
   ],
   "source": [
    "agent.collect_data_spec._fields"
   ]
  },
  {
   "cell_type": "code",
   "execution_count": 19,
   "metadata": {},
   "outputs": [
    {
     "data": {
      "text/plain": [
       "(TimeStep(\n",
       " {'discount': array(1., dtype=float32),\n",
       "  'observation': array([-0.05158357, -0.6371044 ,  0.06731245,  0.9144508 ], dtype=float32),\n",
       "  'reward': array(1., dtype=float32),\n",
       "  'step_type': array(1, dtype=int32)}),\n",
       " ())"
      ]
     },
     "execution_count": 19,
     "metadata": {},
     "output_type": "execute_result"
    }
   ],
   "source": [
    "py_driver.PyDriver(\n",
    "    env,\n",
    "    py_tf_eager_policy.PyTFEagerPolicy(\n",
    "      random_policy, use_tf_function=True),\n",
    "    [rb_observer],\n",
    "    max_steps=initial_collect_steps).run(train_py_env.reset())"
   ]
  },
  {
   "cell_type": "code",
   "execution_count": 20,
   "metadata": {},
   "outputs": [
    {
     "data": {
      "text/plain": [
       "<PrefetchDataset shapes: (Trajectory(\n",
       "{action: (64, 2),\n",
       " discount: (64, 2),\n",
       " next_step_type: (64, 2),\n",
       " observation: (64, 2, 4),\n",
       " policy_info: (),\n",
       " reward: (64, 2),\n",
       " step_type: (64, 2)}), SampleInfo(key=(64, 2), probability=(64, 2), table_size=(64, 2), priority=(64, 2))), types: (Trajectory(\n",
       "{action: tf.int64,\n",
       " discount: tf.float32,\n",
       " next_step_type: tf.int32,\n",
       " observation: tf.float32,\n",
       " policy_info: (),\n",
       " reward: tf.float32,\n",
       " step_type: tf.int32}), SampleInfo(key=tf.uint64, probability=tf.float64, table_size=tf.int64, priority=tf.float64))>"
      ]
     },
     "execution_count": 20,
     "metadata": {},
     "output_type": "execute_result"
    }
   ],
   "source": [
    "# Dataset generates trajectories with shape [Bx2x...]\n",
    "dataset = replay_buffer.as_dataset(\n",
    "    num_parallel_calls=3,\n",
    "    sample_batch_size=batch_size,\n",
    "    num_steps=2).prefetch(3)\n",
    "\n",
    "dataset"
   ]
  },
  {
   "cell_type": "code",
   "execution_count": 21,
   "metadata": {},
   "outputs": [
    {
     "name": "stdout",
     "output_type": "stream",
     "text": [
      "<tensorflow.python.data.ops.iterator_ops.OwnedIterator object at 0x7fcf440f39a0>\n"
     ]
    }
   ],
   "source": [
    "iterator = iter(dataset)\n",
    "print(iterator)"
   ]
  },
  {
   "cell_type": "code",
   "execution_count": 22,
   "metadata": {},
   "outputs": [
    {
     "name": "stdout",
     "output_type": "stream",
     "text": [
      "WARNING:tensorflow:From /home/daniel/anaconda3/envs/pref/lib/python3.8/site-packages/tensorflow/python/util/dispatch.py:1096: calling foldr_v2 (from tensorflow.python.ops.functional_ops) with back_prop=False is deprecated and will be removed in a future version.\n",
      "Instructions for updating:\n",
      "back_prop=False is deprecated. Consider using tf.stop_gradient instead.\n",
      "Instead of:\n",
      "results = tf.foldr(fn, elems, back_prop=False)\n",
      "Use:\n",
      "results = tf.nest.map_structure(tf.stop_gradient, tf.foldr(fn, elems))\n"
     ]
    },
    {
     "name": "stderr",
     "output_type": "stream",
     "text": [
      "[reverb/cc/client.cc:163] Sampler and server are owned by the same process (94436) so Table uniform_table is accessed directly without gRPC.\n",
      "[reverb/cc/client.cc:163] Sampler and server are owned by the same process (94436) so Table uniform_table is accessed directly without gRPC.\n",
      "[reverb/cc/client.cc:163] Sampler and server are owned by the same process (94436) so Table uniform_table is accessed directly without gRPC.\n",
      "[reverb/cc/client.cc:163] Sampler and server are owned by the same process (94436) so Table uniform_table is accessed directly without gRPC.\n",
      "[reverb/cc/client.cc:163] Sampler and server are owned by the same process (94436) so Table uniform_table is accessed directly without gRPC.\n",
      "[reverb/cc/client.cc:163] Sampler and server are owned by the same process (94436) so Table uniform_table is accessed directly without gRPC.\n"
     ]
    },
    {
     "name": "stdout",
     "output_type": "stream",
     "text": [
      "step = 200: loss = 15.344894409179688\n",
      "step = 400: loss = 5.071084022521973\n",
      "step = 600: loss = 53.7888298034668\n",
      "step = 800: loss = 67.85894775390625\n",
      "step = 1000: loss = 32.536903381347656\n",
      "step = 1000: Average Return = 64.9000015258789\n",
      "step = 1200: loss = 720.6580810546875\n",
      "step = 1400: loss = 389.19793701171875\n",
      "step = 1600: loss = 278.0115966796875\n",
      "step = 1800: loss = 1140.2469482421875\n",
      "step = 2000: loss = 456.24285888671875\n",
      "step = 2000: Average Return = 58.20000076293945\n",
      "step = 2200: loss = 49.48889923095703\n",
      "step = 2400: loss = 49.74542236328125\n",
      "step = 2600: loss = 222.0215301513672\n",
      "step = 2800: loss = 43.721336364746094\n",
      "step = 3000: loss = 18.794677734375\n",
      "step = 3000: Average Return = 194.89999389648438\n",
      "step = 3200: loss = 13.858541488647461\n",
      "step = 3400: loss = 13.678321838378906\n",
      "step = 3600: loss = 9.312271118164062\n",
      "step = 3800: loss = 14.414392471313477\n",
      "step = 4000: loss = 11.873891830444336\n",
      "step = 4000: Average Return = 200.0\n",
      "step = 4200: loss = 17.22333526611328\n",
      "step = 4400: loss = 20.034259796142578\n",
      "step = 4600: loss = 19.040077209472656\n",
      "step = 4800: loss = 36.008583068847656\n",
      "step = 5000: loss = 76.67455291748047\n",
      "step = 5000: Average Return = 200.0\n",
      "step = 5200: loss = 91.47831726074219\n",
      "step = 5400: loss = 72.49309539794922\n",
      "step = 5600: loss = 111.59811401367188\n",
      "step = 5800: loss = 220.771728515625\n",
      "step = 6000: loss = 124.89254760742188\n",
      "step = 6000: Average Return = 200.0\n",
      "step = 6200: loss = 89.48489379882812\n",
      "step = 6400: loss = 4643.58642578125\n",
      "step = 6600: loss = 728.7972412109375\n",
      "step = 6800: loss = 18741.5546875\n",
      "step = 7000: loss = 121357.5625\n",
      "step = 7000: Average Return = 200.0\n",
      "step = 7200: loss = 5699.7861328125\n",
      "step = 7400: loss = 11313.8828125\n",
      "step = 7600: loss = 13966.267578125\n",
      "step = 7800: loss = 10627.0029296875\n",
      "step = 8000: loss = 24872.9921875\n",
      "step = 8000: Average Return = 200.0\n",
      "step = 8200: loss = 39706.07421875\n",
      "step = 8400: loss = 423936.5\n",
      "step = 8600: loss = 14490.8173828125\n",
      "step = 8800: loss = 17656.712890625\n",
      "step = 9000: loss = 3327294.25\n",
      "step = 9000: Average Return = 200.0\n",
      "step = 9200: loss = 31104.791015625\n",
      "step = 9400: loss = 18359.36328125\n",
      "step = 9600: loss = 5639.9140625\n",
      "step = 9800: loss = 26601.283203125\n",
      "step = 10000: loss = 40320.8515625\n",
      "step = 10000: Average Return = 200.0\n",
      "step = 10200: loss = 15862.5078125\n",
      "step = 10400: loss = 13011.7783203125\n",
      "step = 10600: loss = 62474.05859375\n",
      "step = 10800: loss = 752727.3125\n",
      "step = 11000: loss = 25322.14453125\n",
      "step = 11000: Average Return = 200.0\n",
      "step = 11200: loss = 33894.2734375\n",
      "step = 11400: loss = 34162.84375\n",
      "step = 11600: loss = 38173.09765625\n",
      "step = 11800: loss = 774651.375\n",
      "step = 12000: loss = 48931.82421875\n",
      "step = 12000: Average Return = 200.0\n",
      "step = 12200: loss = 19787.943359375\n",
      "step = 12400: loss = 42704.90625\n",
      "step = 12600: loss = 1090038.875\n",
      "step = 12800: loss = 45955.41796875\n",
      "step = 13000: loss = 173646.734375\n",
      "step = 13000: Average Return = 200.0\n",
      "step = 13200: loss = 37016.65625\n",
      "step = 13400: loss = 36656.640625\n",
      "step = 13600: loss = 48577.203125\n",
      "step = 13800: loss = 22979.373046875\n",
      "step = 14000: loss = 21272.94140625\n",
      "step = 14000: Average Return = 199.8000030517578\n",
      "step = 14200: loss = 27117.35546875\n",
      "step = 14400: loss = 1689235.0\n",
      "step = 14600: loss = 51931.22265625\n",
      "step = 14800: loss = 36600.26171875\n",
      "step = 15000: loss = 951776.4375\n",
      "step = 15000: Average Return = 199.39999389648438\n",
      "step = 15200: loss = 38070.01171875\n",
      "step = 15400: loss = 1145957.5\n",
      "step = 15600: loss = 24504.251953125\n",
      "step = 15800: loss = 26445.86328125\n",
      "step = 16000: loss = 36734.2578125\n",
      "step = 16000: Average Return = 197.3000030517578\n",
      "step = 16200: loss = 2360826.5\n",
      "step = 16400: loss = 20563.51171875\n",
      "step = 16600: loss = 30583.658203125\n",
      "step = 16800: loss = 13929.07421875\n",
      "step = 17000: loss = 520072.875\n",
      "step = 17000: Average Return = 197.6999969482422\n",
      "step = 17200: loss = 15932.78515625\n",
      "step = 17400: loss = 26780.30078125\n",
      "step = 17600: loss = 13352.345703125\n",
      "step = 17800: loss = 7276.44091796875\n",
      "step = 18000: loss = 17762.8203125\n",
      "step = 18000: Average Return = 196.6999969482422\n",
      "step = 18200: loss = 14869.498046875\n",
      "step = 18400: loss = 1577978.0\n",
      "step = 18600: loss = 15690.3837890625\n",
      "step = 18800: loss = 27574.734375\n",
      "step = 19000: loss = 22597.2890625\n",
      "step = 19000: Average Return = 197.8000030517578\n",
      "step = 19200: loss = 76926.5234375\n",
      "step = 19400: loss = 883998.875\n",
      "step = 19600: loss = 4790360.0\n",
      "step = 19800: loss = 9358014.0\n",
      "step = 20000: loss = 94346832.0\n",
      "step = 20000: Average Return = 200.0\n"
     ]
    }
   ],
   "source": [
    "try:\n",
    "  %%time\n",
    "except:\n",
    "  pass\n",
    "\n",
    "# (Optional) Optimize by wrapping some of the code in a graph using TF function.\n",
    "agent.train = common.function(agent.train)\n",
    "\n",
    "# Reset the train step.\n",
    "agent.train_step_counter.assign(0)\n",
    "\n",
    "# Evaluate the agent's policy once before training.\n",
    "avg_return = compute_avg_return(eval_env, agent.policy, num_eval_episodes)\n",
    "returns = [avg_return]\n",
    "\n",
    "# Reset the environment.\n",
    "time_step = train_py_env.reset()\n",
    "\n",
    "# Create a driver to collect experience.\n",
    "collect_driver = py_driver.PyDriver(\n",
    "    env,\n",
    "    py_tf_eager_policy.PyTFEagerPolicy(\n",
    "      agent.collect_policy, use_tf_function=True),\n",
    "    [rb_observer],\n",
    "    max_steps=collect_steps_per_iteration)\n",
    "\n",
    "for _ in range(num_iterations):\n",
    "\n",
    "  # Collect a few steps and save to the replay buffer.\n",
    "  time_step, _ = collect_driver.run(time_step)\n",
    "\n",
    "  # Sample a batch of data from the buffer and update the agent's network.\n",
    "  experience, unused_info = next(iterator)\n",
    "  train_loss = agent.train(experience).loss\n",
    "\n",
    "  step = agent.train_step_counter.numpy()\n",
    "\n",
    "  if step % log_interval == 0:\n",
    "    print('step = {0}: loss = {1}'.format(step, train_loss))\n",
    "\n",
    "  if step % eval_interval == 0:\n",
    "    avg_return = compute_avg_return(eval_env, agent.policy, num_eval_episodes)\n",
    "    print('step = {0}: Average Return = {1}'.format(step, avg_return))\n",
    "    returns.append(avg_return)"
   ]
  },
  {
   "cell_type": "code",
   "execution_count": 23,
   "metadata": {},
   "outputs": [
    {
     "data": {
      "text/plain": [
       "(6.484999799728394, 250.0)"
      ]
     },
     "execution_count": 23,
     "metadata": {},
     "output_type": "execute_result"
    },
    {
     "data": {
      "image/png": "[encoded data removed]",
      "text/plain": [
       "<Figure size 432x288 with 1 Axes>"
      ]
     },
     "metadata": {
      "needs_background": "light"
     },
     "output_type": "display_data"
    }
   ],
   "source": [
    "iterations = range(0, num_iterations + 1, eval_interval)\n",
    "plt.plot(iterations, returns)\n",
    "plt.ylabel('Average Return')\n",
    "plt.xlabel('Iterations')\n",
    "plt.ylim(top=250)"
   ]
  },
  {
   "cell_type": "code",
   "execution_count": 24,
   "metadata": {},
   "outputs": [],
   "source": [
    "def embed_mp4(filename):\n",
    "  \"\"\"Embeds an mp4 file in the notebook.\"\"\"\n",
    "  video = open(filename,'rb').read()\n",
    "  b64 = base64.b64encode(video)\n",
    "  tag = '''\n",
    "  <video width=\"640\" height=\"480\" controls>\n",
    "    <source src=\"data:video/mp4;base64,{0}\" type=\"video/mp4\">\n",
    "  Your browser does not support the video tag.\n",
    "  </video>'''.format(b64.decode())\n",
    "\n",
    "  return IPython.display.HTML(tag)"
   ]
  },
  {
   "cell_type": "code",
   "execution_count": 25,
   "metadata": {},
   "outputs": [
    {
     "name": "stderr",
     "output_type": "stream",
     "text": [
      "WARNING:root:IMAGEIO FFMPEG_WRITER WARNING: input image is not divisible by macro_block_size=16, resizing from (400, 600) to (400, 608) to ensure video compatibility with most codecs and players. To prevent resizing, make your input image divisible by the macro_block_size or set the macro_block_size to None (risking incompatibility). You may also see a FFMPEG warning concerning speedloss due to data not being aligned.\n",
      "[swscaler @ 0x55e54749fd00] Warning: data is not aligned! This can lead to a speed loss\n"
     ]
    },
    {
     "data": {
      "text/html": [
       "\n",
       "  <video width=\"640\" height=\"480\" controls>\n",
       "    <source src=\"data:video/mp4;base64,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\" type=\"video/mp4\">\n",
       "  Your browser does not support the video tag.\n",
       "  </video>"
      ],
      "text/plain": [
       "<IPython.core.display.HTML object>"
      ]
     },
     "execution_count": 25,
     "metadata": {},
     "output_type": "execute_result"
    }
   ],
   "source": [
    "def create_policy_eval_video(policy, filename, num_episodes=5, fps=30):\n",
    "  filename = filename + \".mp4\"\n",
    "  with imageio.get_writer(filename, fps=fps) as video:\n",
    "    for _ in range(num_episodes):\n",
    "      time_step = eval_env.reset()\n",
    "      video.append_data(eval_py_env.render())\n",
    "      while not time_step.is_last():\n",
    "        action_step = policy.action(time_step)\n",
    "        time_step = eval_env.step(action_step.action)\n",
    "        video.append_data(eval_py_env.render())\n",
    "  return embed_mp4(filename)\n",
    "\n",
    "create_policy_eval_video(agent.policy, \"trained-agent\")"
   ]
  },
  {
   "cell_type": "code",
   "execution_count": 26,
   "metadata": {},
   "outputs": [
    {
     "name": "stderr",
     "output_type": "stream",
     "text": [
      "WARNING:root:IMAGEIO FFMPEG_WRITER WARNING: input image is not divisible by macro_block_size=16, resizing from (400, 600) to (400, 608) to ensure video compatibility with most codecs and players. To prevent resizing, make your input image divisible by the macro_block_size or set the macro_block_size to None (risking incompatibility). You may also see a FFMPEG warning concerning speedloss due to data not being aligned.\n",
      "[swscaler @ 0x5632f550ed00] Warning: data is not aligned! This can lead to a speed loss\n"
     ]
    },
    {
     "data": {
      "text/html": [
       "\n",
       "  <video width=\"640\" height=\"480\" controls>\n",
       "    <source src=\"data:video/mp4;base64,AAAAIGZ0eXBpc29tAAACAGlzb21pc28yYXZjMW1wNDEAAAAIZnJlZQAAKjJtZGF0AAACrwYF//+r3EXpvebZSLeWLNgg2SPu73gyNjQgLSBjb3JlIDE1NSByMjkxNyAwYTg0ZDk4IC0gSC4yNjQvTVBFRy00IEFWQyBjb2RlYyAtIENvcHlsZWZ0IDIwMDMtMjAxOCAtIGh0dHA6Ly93d3cudmlkZW9sYW4ub3JnL3gyNjQuaHRtbCAtIG9wdGlvbnM6IGNhYmFjPTEgcmVmPTMgZGVibG9jaz0xOjA6MCBhbmFseXNlPTB4MzoweDExMyBtZT1oZXggc3VibWU9NyBwc3k9MSBwc3lfcmQ9MS4wMDowLjAwIG1peGVkX3JlZj0xIG1lX3JhbmdlPTE2IGNocm9tYV9tZT0xIHRyZWxsaXM9MSA4eDhkY3Q9MSBjcW09MCBkZWFkem9uZT0yMSwxMSBmYXN0X3Bza2lwPTEgY2hyb21hX3FwX29mZnNldD0tMiB0aHJlYWRzPTEyIGxvb2thaGVhZF90aHJlYWRzPTIgc2xpY2VkX3RocmVhZHM9MCBucj0wIGRlY2ltYXRlPTEgaW50ZXJsYWNlZD0wIGJsdXJheV9jb21wYXQ9MCBjb25zdHJhaW5lZF9pbnRyYT0wIGJmcmFtZXM9MyBiX3B5cmFtaWQ9MiBiX2FkYXB0PTEgYl9iaWFzPTAgZGlyZWN0PTEgd2VpZ2h0Yj0xIG9wZW5fZ29wPTAgd2VpZ2h0cD0yIGtleWludD0yNTAga2V5aW50X21pbj0yNSBzY2VuZWN1dD00MCBpbnRyYV9yZWZyZXNoPTAgcmNfbG9va2FoZWFkPTQwIHJjPWNyZiBtYnRyZWU9MSBjcmY9MjUuMCBxY29tcD0wLjYwIHFwbWluPTAgcXBtYXg9NjkgcXBzdGVwPTQgaXBfcmF0aW89MS40MCBhcT0xOjEuMDAAgAAAAeFliIQAN//+9q78yytHC5UuHVl7s1Hy6Ely/YgwfWgAAAMAAAMAACbiomdFhTHibIAAAC5gCFhJQ8g8xExVioErxl8DniAD4eUBEiUDjkl4wteWxRWVQVw2Dwc2zm8d2MBZhDzatQ1pNgRperXUxv1mOk0fRjDHV+GMyNXwE8UlXs+emsDHy9JTzLMzsjf47R9xJSgq9NkKZftZfJRMJBHql+sCNUnfKFsNfIrOPFLUCeJgpuSZkQbeF0Xd9NBiiVDUw2pJWVUjHY4gJwCVYNQu5D3dHWd/C78Q1Wln1GNoLVTSHRA6FF2A9MACt6JJSgPRrWX/nWtyMydP49nvAzuplIs8rf0VPVlTmY3HwoxqVX5mpcdoxKzw6LjCgFew2tmVhebLQCcQ5aJtW7A3TVfpSSdHcAA9DXRh0HzVTRZioP8sgzwADGnSl34nV6dzV9oXNEMIeHssjC5SpNIWVls008g7Mvi38l0mzUMGlq1MH+I04BFKIpH9zhBBIab/1OXKevmlOjItR2gCERcGevwML3oja7bHgmgGLzG3qygByaPSyNRgTYu35M71fSA8frfYP6KTWnx0fjehqh4Cyl0jH+aUPW9smgt7j5EOPKNw7q/jXi357fLgAAADAAADAA7ZAAAAY0GaJGxDP/44QAABDRpVDs1+ev8AG2mZQxKmbAEa/K69DmXDdBsXSsvDIi9AVYBTD7zpXsD3JpgYwtiYNZCHYE8vaxX2JBso72Zlasg8owRkCSrALPb1DIyGUVOlgrFg78Pf8gAAADNBnkJ4hX8AABa+LAGjHnSqlxH0/KdYy2AAbXujxRdzvhO4tXpYinnGkvxkEd5pyni/tmEAAAAnAZ5hdEJ/AAAirEJh/z9cZDfcS5jFP8ao9Ht8zDcx1S6FqqKJLEBAAAAAHgGeY2pCfwAAI78EJIQS1fvQKFWSb4G1xRTWsHRIwQAAAFtBmmVJqEFomUwIZ//+OEAAAQ0qR9deXh7iw4AjtUO9qCoOcLNXK2T9lN7S6ciWmuSgCkJIrhFIA9pMUjju3b4U/Av7NRiZo7r/o/M6qnsMXu++nqQeJ0QJoIppAAAAT0GahknhClJlMCGf/jhAAAADAgx579NAAQ5oN4fS4Kp/i6S82Ja7wp2ZIQ2a1XN/zws7VxKTHhkCzEb13zw6eniCVGVUzfwWkfvbhsWpgHUAAACeQZqoSeEOiZTBTRMM//44QAABDU+lIrkNswA4xUvxzJdF6eLXveClPDsvpIp/qI2EMqFXyOvhFeokEJp8K/tyKgnwP2M5GopUkfTTGMw8WWB/5jrzjdCdAe0+Z75NvQjhBuGofISk28CHGzc9+bt2tctmR0YjPXaC7VAB5pz4o3treXCAVVnK+1FFVocYOLQIfoHpDy8gZVxNrF/tb/0AAAAkAZ7HakJ/AAAjvuJeptcHmj/ri5KdrwAjSpwAInXc9/vYavU+AAAA20Gay0nhDyZTAhX//eEAAAQTbD2gCfIqwPKWOdGBOmWfxDRIu/Bmx7gkWqo5KBflrDb5q1lPY3+jPFXNQ0EynBm50t52RiZw04a5JmtgR6hgmKsQkFAz2dZFfMj8XoKTOU2CeZdT9/8Rb0usM6+O5C0opdvX3IIBe1oCscHna4r5vKTvFU5pSp60LRISj1zuFASHI8X5WfZuE3Q/Fm6Yn90BFBigwmZ/lTLAwJW0gZCglijR3F8wydQb4hhxu5UqJLGykeh2SnunQDARI4wgi0LOjQ0Hn92G4AAyoAAAAD1BnulFETwr/wAAFrxDzR9Ekz0VMGcNkIko/ZdCTCt6d+JcWwrpKTjBZTfnYlcLBivCWQ4wfn/ZBt67OAZRAAAASQGfCmpCfwAAI72DA5wlr3t3QL6R3/h6+kuLP7Y4e5SdrQCoiyg+9nscD68j26wAlfQr8H3/8iDst4MpkiW+lYBLOaa/9B1EN6AAAAE1QZsPSahBaJlMCFf//eEAAAQUwEBw9AYy1laFDbOG7/dBlUv5FH0sTUZWTPnZcy7lIqeKHzjaulegSRg4uwvS3YJShuGe2kF6R49u6tNMDAh+yrZQVVA4hEFGA86kGL5yZNPr1dWQbithEh3VjL5mTgRE8BowgjJaSBqIoRigNq+kfJSMVCn43M1GZwq3lSDR3xb6x5Ybyr2wAZa46DfIht6g5slFTsGjLBGTFa5KOrL30qc05RmpAvIJe/nhmvmFZP2imk2nIRclEtANVlFsuXT5VdBvKgf4KUmNembDUmOEg2VOqWcfVZZvQNGc5Q4IpMewctyEvGL4jLRAA83zkOdyBTWFvbG8neKEybwiMG5SIIZrqUrX9/sneOr4fgkMrVZEN5AK+LYexKLyIOsnehym0K4YAAAAg0GfLUURLCv/AAAWc46OTNJPiUXRGAuABX/fPsVZmD3NMgCj0/j71IE6Ck/w1l//HnpZlsUpCNry+6sP0RYK/rRyrhHDYsdPTydgeKV6SZVlnBxZvXhSsNq8X6AFrSuodutHolcu/2c4pqvvXK8GsTJI8YTTCKCDj0a3D1w9kSj1a08dAAAASgGfTHRCfwAAI7emnOjr7h7o746SklmUJv8f9ogtNuW69RxOX2UzdjVl9oKbeA8+yObxXS/YVxE2AByy7VFeTb5Kks0fMrIMwZcXAAAAZwGfTmpCfwAAIzqunYT02Jty8dk4Thuc2qZDoQ/faEByDsgv/vab7SW8vC3qOuPf9GLUWrP7A3KU6IJLQm0TeTdX3CGqPMABCm5ZoKkYMNWR0ZjzPiOc9c2qv98+M3KP/ZfZFXYTWUEAAAEhQZtTSahBbJlMCF///fEAAAMCnvAAlmgCEeW+i++KTHNtnGMtPvGvMiE2X6fQYotltfu/esoHoxkXXCQlNi9WHpM5fcX2wtA9EqfpARGF6zqV4azCp03TzI/d1k5iERT8SQNWk7Hy9W9IVCfY/XC3DEBQKuJV7TYzlFKX43rnR0C8Hqo91Dp3h9VQ8Zh+TTp7OmBVjnbcy8AtdmRrySlrJ6ZuGF6knefOqNs15+a+GU5pNfmG52hdpUd4rK8L8F8tXZSC4k1RNfgpolKpmRBjYZgkll26+kXLM89rlJvbOCNsn3Dak68VY76ABHhB+FSDnpwS67NWls+2Wk6YA2lE4ZwYUMK8DLZ6JOgjmyqDoQo0iMozzh2TbfdAk9OIPHvNigAAAEtBn3FFFSwr/wAAFrmBfgC0/t8JVjWfnA+HOimb76AKCjurZnm0xRL/50PkFJHtsNWG5uUWnJolj0ML96hPuXDpB7cvnKxRMQiLeOAAAAAoAZ+QdEJ/AAAjq/hbeBbvVCOZ5DRgOy3FtdeDlGRguBqCR/MjWQ/jgQAAACABn5JqQn8AACO9wIqsR8RHKyQsTLzabICq8eyXUQFTQQAAAKJBm5dJqEFsmUwIV//94QAABBRvU9AUlFudd6law/KAqhy4O4eygJ/y2icaD3Q501707v28f4upakaM2JeFS6P68hOVFsRZ1zpxIkSvs9PlGbOR/PjyfgCNPYprV0GG4X+rvdVIVcG/HWKgNbNQnf/Tm1aHcMNplDQUcrlV4HvDUCgVpu0MGn2peWp0aZz7X5Wiaewn3Ny5uys7lPP1MWPGY0sAAABTQZ+1RRUsK/8AABazLCyzGNEcgMQ9DDR+FYFisgQGNwiWpFUj4ZOx88HKnZ4mBYwGdk64KaEZQAFpA15j1jlluJFmEbzSUmyYsY/p3kZj49LO2CEAAAAyAZ/UdEJ/AAAjq/hcKu6NXJw6jTjYeRLwgfve9TLSi99KpVYOsksFlX11rEgCk/pvGzAAAAA5AZ/WakJ/AAAjscwRex73s3Yl4sR0VluiQqbS3E7+ObwJRlh4Qnq1UNXO/eCkMYaC8oFYanYzkMqBAAAA5kGb20moQWyZTAhX//3hAAADA/ZHMdrVgEyaGPnLiRBFrGJ/lncl7JgExpF6Mu0xKDRDpb6537TpiMg4Swg996VyzL9WUKJ2uAv/T3lH8PzT+BjKHUx25u8mhPgx3aGERws6ij1383HsexCCKwNa7sog2jpMiSjHBdtfo7vKC3tq1CmhBc45+MoUa/8FNVUsE2pyE0MCiuQWjTtpdwQMHNMrZiJuK6d6d5ktDLg6+hope25XyxxdOVVh1gpuHBah2uQDuh9/75rRgxUFY321T+swIta3SHMm9L+uuVwmFX1rLJVf2n9BAAAAfEGf+UUVLCv/AAAWK2wgAAEXV3RPZyAJgsDsKfFa1ONMShDKL9QEP365rwdmOesOwyFNj8KzJBGX461jPab7o7nJAqV0E0Z5j/u3Y7nHDoi6h03T0ac+16t1xljPxKDsv9xUw+2l7vSzUzu+4v+D4tWn7VPQ+7FeBRv/z4AAAABFAZ4YdEJ/AAAiO949ZwmcPY5SGXi0IjilvFZs7I8SJC9gAvUhHs8bHLvMyzaJB12dulYXYbNb9tP2YIzkpeuO9Fkd8sSpAAAARAGeGmpCfwAAIp7yAZdfphyOHuu3aUEQKTf/Yv27AN/lAnFrlZp+PphldP/kEyxjKud1kFC9bVGQmAURXnLIq5zfZGAQAAAAiUGaH0moQWyZTAhX//3hAAADA/aFuSIAUAVJRLC2fo3bRxG2Pjxx9QjPvYHEypYB1PI2FYMdpfLaEWceLnQr+JK6ES7cBLVYWFc0HtxTpzGySCEo8AopX7kL5YjRTFd9v0kv38Bg4Ld98j6u0mKv1CSLR8y53KfgT4yujYhcrtFAVrOd4jnbXcLVAAAAjkGePUUVLCv/AAAWIkbmZXgCt9ySdjog1bxKps5aGMJ5oDexWHT5FwjoNVme0SOBZ70e4MwHi3S+JFEZEvCxwEPgD3nuJYxiYIAUGvDCFoZTCBRDQB1Q32yCT9YFzlkPWq0gUXTuBcd7V2AQJUr5k6NId0nHjVZ+dCsFbCe0Rlme53l8Rfx0bs9vVgEty70AAABUAZ5cdEJ/AAAimIm5GIVUYlyFuk9t48VH5baVFUIkT4bFZXQxW7d6AEkq//s4+7GmqrQbBYAGWOpEsyMGY3EJgAHSAPxBnid9/84C2c7IGJM4P6WwAAAAXwGeXmpCfwAAIrygft1drYFk8m8gd/ZxABDmUyFP+fU4TtcowiCwikMx5VOQhPIhtmpJPjfQ/lOWXfilte8mw0GMMTiHjkfC174sSNINlCw9K+HYzibElBYKjvaYKStmAAAAmUGaQ0moQWyZTAhn//44QAABDQ4oDbfC86J0ykzmZmxRYWIsjIR8PnrvQOnrfDIYwASVz9Q7lC8IZiYUqw5SQVsJpSBDr1GYLW46sgmdhwguPlYH1OnbAEGDe53UtRELa8WMrpgv6bfKzhiEtPjwF5eLUc8ttJFDxC3HyJbSghjPq8AfbmudjFqSjqPMBBC53jXpw5x8riAfiQAAADVBnmFFFSwr/wAAFixOgJwtOLv34EqVkSAUyAAiGBqZtG8WAYIkxwb9khzf8DQNc1f3tQCqKwAAACgBnoB0Qn8AAA0x0V9SGDhHc31MJtsoSgvJnoMl/2cwgwCcMcwfNzDLAAAAQgGegmpCfwAAIr8UhIxh7ABIoi4hqNjf64xiezVmMmZOUMKcm9bo6a7bnv6HcDmp+8+3RIO9jC1fJMRvS1MLMg5tPgAAAPlBmodJqEFsmUwIX//98QAAAwKe96poAEYd99Krl4e5Kl5rWT89nr53EQKc0XRkJoej8au8HyJa8RYu5fvgAFhU6LJZUMM/Ihyx8tjvvzujn+Lj6TAlSFAG1Ee++kaaYoRIEEMTMEDNn6W/TZ2E+KXv3FK4Q9A4oJdKH416AM9pPcv/slDIFAYGkVb1qRow1R8UzBR9wodDChrlFHud7a0ObFFcR9oxrsQpkkDqPA0390CUoQRR7Mo2dBkJCi9mUHobY0Jk1oLjCTrc1AP+QU2C10ya7DO5pZGcx/D93lyLy3GDKhaerr2Maav9N0TfgKiuwYS1KCR9htUAAABBQZ6lRRUsK/8AABazRYqywfLqj0n+GgEoAE6n6IPqHh5pY8K6mqXt5v87VhwuDRM42KLDIIw4BcwhPW//MMAHKZ8AAAAsAZ7EdEJ/AAAjwtRGjoZ6cv8wRXG1plTEpyf80eb6TTIMfOHRFqso5bOXVMsAAAAwAZ7GakJ/AAAjvwQn22rN1Zr/nZ4mHq/9tfRTgjHkA1JM4VIHpHyVoNQWTigLt1Z9AAAAw0Gay0moQWyZTAhX//3hAAAEFLTFpJQD5wcFLgzrqQ4QHz/bydKyTHCK972/xkd3i6/W1nJ/UMp4UNgcBX+OXWt9tIwFB//6VKZKprnZ2guvppQ2FnBxbyvRA5TUsvMmVuE/UJg7vlZKb8CvvH3sdAR/7wFt2tG3+D/GOgwkKFAZl4JvQ57rRMPIAXFf+hO2uflk6ygEzvA5Xkset5ir0la6dMZGTw6UnSlRie+Aln02L3GLswbx4I/2drNEei5tusqaiAAAAGVBnulFFSwr/wAAFrK2xqisd6qAOUMRMgFPvmIaOfymt9Q41UAes1cKMD/Ad5UE+krNlYvL5bga+F4f6LiKdSyvFPEgQA8NbWjr4/O0mwS4IuKP5sotVcoXxMySY03NulTEXvFsLAAAADoBnwh0Qn8AACOr7/gTXcMfabbbYKUs1BsK7Vo7nZEv1k1Iti2H4Ztsbppueo7oDpx0k6Fva1kGSK3pAAAATwGfCmpCfwAAI653rEALCr6PizhD0uxdwiuK9mq8OMUaxOSQ57gWgnbcxhqOVbvMtxGDw3fKVpZwrHKtn8EGlrX/kkGMGiNtm8ZcCYgEPXcAAADgQZsPSahBbJlMCG///oywAABGAP7I8EBM5dqia+g0H6EMxAv6d6KnPfLvz+E+0RR6ZxBD3zGFX+Vao8u6+K3pUPp+4WMmxsmvxiH+4vZt2oPoLBkgY5nKkm1fstBvrPYQdeMgJ5U8+CDECw2as76D7yQ3t0KftKzI4BOUY4/6ow7pkYhfwC9m7AyHVNdbwH3VPZ0Vhs12CbnLO/2+d7+P27jCAG2hsJ4ErnwdcwpYjHkjoVIZN7nJq+27DABoGmGKsnREm68418nSvhy7HnoF/6ZOpOx07mGNk8KKkfFMTiIAAACcQZ8tRRUsK/8AABa7kr9JAIQ0FFJXh8sPXdFkvyUuQt1kHjmGYNucREUCoZmf+tuL7PWQzu+uCAMt8AL98ubc8n3SJqlTXHjZy82xS36/Bdt/ZZOnf3NGtFmTpi5bBBLRL0SQerWdASV/nhdwVXEmUlgaxbzxSVBcvchdlgQStko5LtBWFT7RlHE78R/tFqJyXkjwFTHwSQ/94TvRAAAATwGfTHRCfwAAI6qCavgc/2Wk2VnrVOgZ97hzNfJWyxRaIrZWIp6g3TPphr+CPSniJUSoAG05vfIYNVtLpl9bJb24SHVM701GHydwqF8RdSEAAABIAZ9OakJ/AAAjyOLtn7aG6wOua8b8mUVimCIDDN32RPPHRKJxFZ5VK4FjBpq94I8aaEbk5rFBtkuCeAzkcYR086HKLlZqf3vbAAAAT0GbU0moQWyZTAhn//44QAAAZ0YSM9I8gBSeZY60nXcZCFrFBSXHDpvNS9RRh9VgkC5JGNzGDlPG59NjJeI11zIx2TVNEAW0SoMaQjfPO4gAAAAtQZ9xRRUsK/8AAAhr+uFhX0B9hLxbxIvnLvpECJQPNrUi0cHuatQnVgZ2JBfMAAAAHgGfkHRCfwAADYXdNFyD3UV4TZsyhbWD2JUislsBgQAAACEBn5JqQn8AAA2Cbde24p1lJdy8rx0SDJ/NcRyzY1C+gqYAAACOQZuXSahBbJlMCF///fEAAAMCnwSkTs0XLgCgE79TY+Kws0uLmTZ3OvdfCXxdG5agHOrdrcTUnmWRFRdxUSPLbwuX8LVNFT3aymErSuhiBIe09N1L6SIt+PRCmbFtibLk8ieU1G/1N1xHPloJUzSXU7Nn1Dgiiwrj3hn96Afc1NaNdK+vOEL0txhhHgT5NwAAAEtBn7VFFSwr/wAAFrw3gUhJKCIEfk5hgto0PhDfVrid0+wBfT5jsLzNoBnVtvyDLUEO3P8qJwQIRiyRoQV2hw0tnzzu7QT8VClacFkAAAA3AZ/UdEJ/AAAiw0cIauET11sy3UXcJkGogXD1I79jnry/bEUAD3J/+uoS6Vpb26ZQtz5r8pXswAAAADABn9ZqQn8AACO/BCdgSXEgfjWAAUKNTFgOcpeglTZF+h2cxeBVk+hJ3ShvkP+0E2EAAABsQZvYSahBbJlMCFf//eEAAAMAl39vGaR4vn3V0h8iCwjX/ztF0qgCc+q2JWKO0qaty64FN8fw0oKe5etUdJbPXaFOoq4xfEJr58JU3uA9jSGMvHoyTOdlyhkkOl/d6emS+8epg+NSZi5BmZTBAAAAzEGb/EnhClJlMCF//fEAAAMCnvbbSjYe3hQfCAC58b2d8/vIyEeBfarJT08/KcrMifH3YthOlVo+V01y4zSRRHOgZ46R8x0b6p1XRe+N0WuucfiClZuro8FQubQ/zH9kZ5u/XOmJAhFRAKDVrpeEvJKMxrXfl2XDjZ71qcwR5TofuZg4LomSebnU41+EbTgpV6tkqEn+u1Nh1/51BKKQ7cxk6zOi+VZKgOYy39ZiTJ8rilpgUvjoe76JLmZGD5pLWa9I8FY/NrCvoBZQgAAAAFdBnhpFNEwr/wAAFrNIFy5VIAWHusVDHssMaQN/RSWgGvBTUxFFs5uLZX5l+N9khE4z2yeop416HVsApF2Dhp2MllChFeWTeC5RMpyNU7jEJdqWXsR4k4EAAAAxAZ45dEJ/AAAjwwdHhNgsb7H18xfbgXx8Xij4YkyUbR1JtCgt9/XHnOneTZOsdwrgsAAAAEgBnjtqQn8AACO/BCZtqTuEB+2SWUYbNL78gvD0WE0ecAaD8CzQNhHuAfABNGvut9iOK47NlhChCIBJdzFpp0AqJqiewFFtM+EAAAELQZogSahBaJlMCFf//eEAAAQUuvaVeAalGLzqwyX9ZtnriE4/rFE5YPlG8zqVwgMFxEtoSVMxpBuojB2JPmxtw7Mt8E/d9JCTZuWzFTHvtazEoiZehfwfgKHNUj/F83qCGzR6MZTV18uA4EDYw+z7dfhZwbQE/3e57+je9jHfxA/80PKvLxTrSotKyhPM+n3BlddXd17TCq1PKXPWrc9q5QcLHZuCgzVcSuecqVTI+Hy8arGmuh/k/y7/Dl2RpplxoZCfjIbNwQdKWVcJ6fwKsnZxt0/zRumPr1RxZEjrpJpiC4FbVeB8MiTNlmusQj+OZWUE44BcvIXyYC0uQ9FBeZV/otymWkScCIMJAAAAa0GeXkURLCv/AAAWvmCLGNan12ZOAFt7y3zCPTSsS9IHH5j8/fuWLNaFvXOcCl492F8pIKzT77Lyl+SzHDxLr6jOHp4p2sWlnkRf7hgdiQIYdE7c2D9EogEfvej+8jo1RhNMyOZa3ZCs1FxYAAAARAGefXRCfwAAI7fPoMNngfqd79uaFCmkR6jMRfodrf2TDs9Du0/4Xq4HC5rJ9h2rwFLljKKqb64xUGTf0WvcWd6lsQ2AAAAAPAGef2pCfwAAIrtH9/sIZGh2XAE0qN9oQJsaJ+wJNtS1JxtHqhUoxDMKdtdhPepHyDziWcjRPSVkekJJwQAAAJlBmmRJqEFsmUwIX//98QAAAwKf7fJl14Bq8yOsgstfAYR3+j+rxC855XYOis/ru4V4invdfqE4OUZxc2cCzLS3MTAZ1cbi7vS8ctSov8i6uxMgjwbd4yGm0RA28Ci1lAokIIU0LNl+8nUun2nMi69NON++86stBeuMnX9E5PFZfBCOYU9vve6ijIdT9LS3qeVwB9IeLVzMCeAAAABYQZ6CRRUsK/8AABZzn1V5VS2PIppSRzoTyH5gk+62JdmmCP4e4oDBXkkSbH+Ki5ebvgzLXTXR0r6hmNnPj1DhvKKAD+aaFc8+cMS7LMY2j1z6OfSM7qvKMwAAADoBnqF0Qn8AACOEUED0/nRZ7pQg9zGuR+E3QgwGeNM89EXYz1eWdydvZF/gktIilEIappFpt3lAR7HdAAAAQgGeo2pCfwAAIrhfvn0WYCVpFSUlxgYfEj6ZPnYs6x5pxaFmMTCUXSyBQoFnmq6f9mZSGQAHG22AJI64nZYTBRDqQQAAAO9BmqhJqEFsmUwIV//94QAABBv8QANTt/VhP5tu+dG70r/qByEkUZM8kkoWRhkaJS054115YLjFNy3uyRHmZnrD3fGZP+fs4qi/vC/GHCcHAdThrrmItyA2McfG4w5qtzpd5AF241CyhAH6dLqRx5oNzah7gd1wgBZo8yi82H8LheNEMid7lOtntR5IoN53eGNCqdF3itE9lPW4V9E+9VqdFNRbGW0TBDySHlHxuE8DBg4Bbx99XK3dqWtUlDCrWUxHmz09QJt7+v+TgO1/McNoRwlk3Yvh11uur65f4oRvm96NN6dr0pcMpG3ZAzKFgQAAAEdBnsZFFSwr/wAAFrUTgamQ1J5ms9AAAhHeb2gCu6M9iAM7BI1+Ru0ygw8ZwaEXfUYKAcPgurtfPR6SPdJcO1+Rvzkp/ZlKkQAAACIBnuV0Qn8AACOr+Ft4E9kmOi/VsVQ/ST5PJlMHRQBDW0fBAAAAIgGe52pCfwAADYBxMA1e0lDLocerCQL+GEeIiK/V5YCCNNgAAADGQZrsSahBbJlMCF///fEAAAMCn73pGGAK2L3ArfAE+nNdHNJ8YPghQs/cYpXp4rk7iCtHToqoodTffyub/tk4kmOATI67Kt1gvn3pe1Ltmckfjc7lUUUWYLY43PRfQ7EPLUsAdtZa5X0k39EWyCYawozWGrOejrbLECDQ1ZAJQmG+0Q1szH5u4TO1w6SjJflwjrhnJzZ+N43n1gvjCfU6sCfgHXx1Q0A0CXLGMipBMZEyZp56wGb+uE+kgZrISfYR7ahxL8q5AAAAMEGfCkUVLCv/AAAWtSs3a1pfAzcE8bPrl34CQmxyKkK0mc9ABmuagtKIXJQ5Bm5CsQAAAC4Bnyl0Qn8AACOr3zZr/AnUCGeniB68Z42KMX0FNDeii8UYNYGMlCHwTkzlVxBYAAAAFQGfK2pCfwAAAwHlyvo9qE7UVjwC0gAAALBBmzBJqEFsmUwIX//98QAAAwKjyfXK+FqoA4+8COpjctlsarORsRKiCqlOi8Ck74bWM692wHM/gF52Ch2l1s+JTjFyb+7oBpND7mB4lwsftDx4gbFR/ObTtTbJD7mgP2kAfExpwBaxEO0iitgVdR8mI3Mg/MNzHFnrvQu8cj4uFBbyQipIx6lP/NZQArCmxBWQcwXdvjhQDDtgmceJjdOlGKzShWTCdq3sksodV4M1YQAAADdBn05FFSwr/wAAFrw3hYJhrmlRJrPdNtlnz2oK3qDKFkZQAjUxOQC6XZ8FxIEkbzSXNX43Ou9BAAAAMQGfbXRCfwAAAwHm8ln8otHthz+dIldEsYx9yFesZgADVErE5xas3xevy6i5EIJJufEAAAA2AZ9vakJ/AAAjscEvkgA3MwLY4ljaawf74qMHg/4Cxc6qV0e+1DhLWfIO+/Mqrm+FzW1G1NswAAAAvkGbdEmoQWyZTAhf//3xAAADAo65ZWSQAR2cxLBilLUIkUB1F4J/cisDFjVl/0fI5zUOprx1oekYWnauU3nxEbN7yrlJ/1E8ZZbcDqhPZgKvfi5iXS602IVfkMPU3GZBxMQ68KnelQJH8nzict1UY9q7w9/uPEjNpl9R3xG0m73rM5SMA0nv+UnDsvFJjipmR6Vf+z2OJ2OOOz8G8+satnsjzSpwP/Aglm/01qPuKz5oaq53DkjJPO4eza8aYnAAAABVQZ+SRRUsK/8AABX9jliEGhaWQehTsQp2NaObzZX4KW/xFVeCyIX1qcwBPc4jf0BTcpYROqC5WjACxga/QXKcarCXW5hUf5Dd2kofWzexGx+V6eG3kQAAACwBn7F0Qn8AACLDO/XtWo3b99FEumdezJ3yzOcEhmmNyVxeNYBhAGAlavwHbgAAADEBn7NqQn8AACK/Gz7kyW1fg3QQGIyRuICP4/psJoPTCkxCRbp7I2SucsdSK9g6UU83AAAA0UGbuEmoQWyZTAhX//3hAAADA/h+1oj+AAdEIIM5UZLYHd0Ueo16wZwnLxipj8/pgZr1uL/+rtB3+jm6rNjISCc8r+5a7DiZWsTNFSoXZ2jQa79Bu6tB2vrBF4cOPRZU9sMFD1qVD6AXYwpSGD0gmyVQ9yQFuteEYnA1SJBHnMN4rxYmo9F21jfNSAvfYr5X2OyfgbdGot6WcESm3y3hzXqbBb9OOZx1s0qkMjW6avL08fKXgxw5OaCzGd2Q3I6cANYPZxenhDtfOV1MrlQIjiT9AAAAZkGf1kUVLCv/AAAWIzDHgCJBkPdMRh8JRPfuDrQc17t/TzX+UzRwEaC3/NDVyyJIfFZ+toR2F4TEWuUfOwgUnPl5+//mQWqwIxwsbcY97qvcEq1y3XGAhQB/DtwmnfcGTsniPkHm/AAAAEcBn/V0Qn8AACKp1MmAG5LIJe3469cI5Et2aJWH0qi3Np7vAubrYiK0japOd+miZKqn39cJIy5nedNJ78HIQaj9Qof4+ECtmQAAADABn/dqQn8AACGlinqRX9lgD5ls8mSH0DXTz4NAiScm4DPp2NU0AH8NnVnz2MB8wIEAAACNQZv8SahBbJlMCFf//eEAAAMD9/2QaIzy7z10jO+BbvnGStf6bmQ4ejod1+I5/XVXMqIeHt4YEmb7X1VJc4AVkNBtTb2+SFYgSqFT7Hf0s8i633DMe9+7QglaV+aFnDbjb96J+Hf7kecVF4lEmMy5ibcpl5Ns1kaaoTxb5k/RyWjkZw4GuePM2tvDGzU3AAAAWkGeGkUVLCv/AAAWGljdVgBW33umfiAzfWSrXn8UDMYSHLeRdsr4PyoTbSbknKr3elaHiUnEqPeaABdRY64xK4NZvE+3oBRxx9nNzN4jDjsP2w8suWJXEQvtgQAAACsBnjl0Qn8AAA00/8fOHx9xYxGN8qrSgdDoHvtd4zYNT24S/Xp8eeupGmzAAAAANQGeO2pCfwAAIp4Wli0566FufY8qk/Cod8gbSvQg1CD/dvqARlPe99UjM5w3Hx/DZ5fkWZgRAAAAgUGaPkmoQWyZTBRMJ//8hAAAD4Bb4Wo33s7ro45soN+AyOWik7SCYqCAAuolbhEUVHlJ0fSu//mQhw4ICQadLfz5hh+ay/cHUYrI+W6pbsCzOigFA5R2nPmZwPGUQv7NUkXPafYjT8HmKGwbu2yPiF4brfjNwFPKmYc5PxiXf1CiQQAAAGEBnl1qQn8AACLVIQAr2ysannit8aTnUJlbMpKxnIwPNYmjhV0NXZfeEP+pB8lC/ir8ZCr8qb6QaBMB7K0ZwW/tEAd0sV84BSLPKWGPpcoeSknUxTGg+VhhSSAQA5h9EBiwAAAHdW1vb3YAAABsbXZoZAAAAAAAAAAAAAAAAAAAA+gAAAxfAAEAAAEAAAAAAAAAAAAAAAABAAAAAAAAAAAAAAAAAAAAAQAAAAAAAAAAAAAAAAAAQAAAAAAAAAAAAAAAAAAAAAAAAAAAAAAAAAAAAAAAAAIAAAafdHJhawAAAFx0a2hkAAAAAwAAAAAAAAAAAAAAAQAAAAAAAAxfAAAAAAAAAAAAAAAAAAAAAAABAAAAAAAAAAAAAAAAAAAAAQAAAAAAAAAAAAAAAAAAQAAAAAJgAAABkAAAAAAAJGVkdHMAAAAcZWxzdAAAAAAAAAABAAAMXwAABAAAAQAAAAAGF21kaWEAAAAgbWRoZAAAAAAAAAAAAAAAAAAAPAAAAL4AVcQAAAAAAC1oZGxyAAAAAAAAAAB2aWRlAAAAAAAAAAAAAAAAVmlkZW9IYW5kbGVyAAAABcJtaW5mAAAAFHZtaGQAAAABAAAAAAAAAAAAAAAkZGluZgAAABxkcmVmAAAAAAAAAAEAAAAMdXJsIAAAAAEAAAWCc3RibAAAAJZzdHNkAAAAAAAAAAEAAACGYXZjMQAAAAAAAAABAAAAAAAAAAAAAAAAAAAAAAJgAZAASAAAAEgAAAAAAAAAAQAAAAAAAAAAAAAAAAAAAAAAAAAAAAAAAAAAAAAAAAAAABj//wAAADBhdmNDAWQAHv/hABhnZAAerNlAmDOhAAADAAEAAAMAPA8WLZYBAAVo6+csiwAAABhzdHRzAAAAAAAAAAEAAABfAAACAAAAABRzdHNzAAAAAAAAAAEAAAABAAAC+GN0dHMAAAAAAAAAXQAAAAEAAAQAAAAAAQAACgAAAAABAAAEAAAAAAEAAAAAAAAAAQAAAgAAAAACAAAEAAAAAAEAAAYAAAAAAQAAAgAAAAABAAAIAAAAAAIAAAIAAAAAAQAACgAAAAABAAAEAAAAAAEAAAAAAAAAAQAAAgAAAAABAAAKAAAAAAEAAAQAAAAAAQAAAAAAAAABAAACAAAAAAEAAAoAAAAAAQAABAAAAAABAAAAAAAAAAEAAAIAAAAAAQAACgAAAAABAAAEAAAAAAEAAAAAAAAAAQAAAgAAAAABAAAKAAAAAAEAAAQAAAAAAQAAAAAAAAABAAACAAAAAAEAAAoAAAAAAQAABAAAAAABAAAAAAAAAAEAAAIAAAAAAQAACgAAAAABAAAEAAAAAAEAAAAAAAAAAQAAAgAAAAABAAAKAAAAAAEAAAQAAAAAAQAAAAAAAAABAAACAAAAAAEAAAoAAAAAAQAABAAAAAABAAAAAAAAAAEAAAIAAAAAAQAACgAAAAABAAAEAAAAAAEAAAAAAAAAAQAAAgAAAAABAAAKAAAAAAEAAAQAAAAAAQAAAAAAAAABAAACAAAAAAEAAAQAAAAAAQAACgAAAAABAAAEAAAAAAEAAAAAAAAAAQAAAgAAAAABAAAKAAAAAAEAAAQAAAAAAQAAAAAAAAABAAACAAAAAAEAAAoAAAAAAQAABAAAAAABAAAAAAAAAAEAAAIAAAAAAQAACgAAAAABAAAEAAAAAAEAAAAAAAAAAQAAAgAAAAABAAAKAAAAAAEAAAQAAAAAAQAAAAAAAAABAAACAAAAAAEAAAoAAAAAAQAABAAAAAABAAAAAAAAAAEAAAIAAAAAAQAACgAAAAABAAAEAAAAAAEAAAAAAAAAAQAAAgAAAAABAAAKAAAAAAEAAAQAAAAAAQAAAAAAAAABAAACAAAAAAEAAAoAAAAAAQAABAAAAAABAAAAAAAAAAEAAAIAAAAAAQAABgAAAAABAAACAAAAABxzdHNjAAAAAAAAAAEAAAABAAAAXwAAAAEAAAGQc3RzegAAAAAAAAAAAAAAXwAABJgAAABnAAAANwAAACsAAAAiAAAAXwAAAFMAAACiAAAAKAAAAN8AAABBAAAATQAAATkAAACHAAAATgAAAGsAAAElAAAATwAAACwAAAAkAAAApgAAAFcAAAA2AAAAPQAAAOoAAACAAAAASQAAAEgAAACNAAAAkgAAAFgAAABjAAAAnQAAADkAAAAsAAAARgAAAP0AAABFAAAAMAAAADQAAADHAAAAaQAAAD4AAABTAAAA5AAAAKAAAABTAAAATAAAAFMAAAAxAAAAIgAAACUAAACSAAAATwAAADsAAAA0AAAAcAAAANAAAABbAAAANQAAAEwAAAEPAAAAbwAAAEgAAABAAAAAnQAAAFwAAAA+AAAARgAAAPMAAABLAAAAJgAAACYAAADKAAAANAAAADIAAAAZAAAAtAAAADsAAAA1AAAAOgAAAMIAAABZAAAAMAAAADUAAADVAAAAagAAAEsAAAA0AAAAkQAAAF4AAAAvAAAAOQAAAIUAAABlAAAAFHN0Y28AAAAAAAAAAQAAADAAAABidWR0YQAAAFptZXRhAAAAAAAAACFoZGxyAAAAAAAAAABtZGlyYXBwbAAAAAAAAAAAAAAAAC1pbHN0AAAAJal0b28AAAAdZGF0YQAAAAEAAAAATGF2ZjU4LjI5LjEwMA==\" type=\"video/mp4\">\n",
       "  Your browser does not support the video tag.\n",
       "  </video>"
      ],
      "text/plain": [
       "<IPython.core.display.HTML object>"
      ]
     },
     "execution_count": 26,
     "metadata": {},
     "output_type": "execute_result"
    }
   ],
   "source": [
    "create_policy_eval_video(random_policy, \"random-agent\")"
   ]
  },
  {
   "cell_type": "code",
   "execution_count": null,
   "metadata": {},
   "outputs": [],
   "source": []
  }
 ],
 "metadata": {
  "interpreter": {
   "hash": "557b1f3eab1dd2848929e0c2efbfb02640463011449d81160b7c7fbe99d0977f"
  },
  "kernelspec": {
   "display_name": "Python 3.8.12 64-bit ('pref': conda)",
   "language": "python",
   "name": "python3"
  },
  "language_info": {
   "codemirror_mode": {
    "name": "ipython",
    "version": 3
   },
   "file_extension": ".py",
   "mimetype": "text/x-python",
   "name": "python",
   "nbconvert_exporter": "python",
   "pygments_lexer": "ipython3",
   "version": "3.8.12"
  },
  "orig_nbformat": 4
 },
 "nbformat": 4,
 "nbformat_minor": 2
}
